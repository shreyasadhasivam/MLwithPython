{
 "cells": [
  {
   "cell_type": "code",
   "execution_count": 1,
   "id": "19eea74e",
   "metadata": {},
   "outputs": [],
   "source": [
    "import numpy as np\n",
    "import pandas as pd\n",
    "import matplotlib.pyplot as plt\n",
    "import seaborn as sns"
   ]
  },
  {
   "cell_type": "code",
   "execution_count": 2,
   "id": "6c216451",
   "metadata": {},
   "outputs": [],
   "source": [
    "ids_df = pd.read_csv('IDSdataset1.csv')"
   ]
  },
  {
   "cell_type": "code",
   "execution_count": 3,
   "id": "cea554c1",
   "metadata": {},
   "outputs": [
    {
     "data": {
      "text/html": [
       "<div>\n",
       "<style scoped>\n",
       "    .dataframe tbody tr th:only-of-type {\n",
       "        vertical-align: middle;\n",
       "    }\n",
       "\n",
       "    .dataframe tbody tr th {\n",
       "        vertical-align: top;\n",
       "    }\n",
       "\n",
       "    .dataframe thead th {\n",
       "        text-align: right;\n",
       "    }\n",
       "</style>\n",
       "<table border=\"1\" class=\"dataframe\">\n",
       "  <thead>\n",
       "    <tr style=\"text-align: right;\">\n",
       "      <th></th>\n",
       "      <th>Unnamed: 0</th>\n",
       "      <th>MI_dir_L0.1_weight</th>\n",
       "      <th>MI_dir_L0.1_mean</th>\n",
       "      <th>MI_dir_L0.1_variance</th>\n",
       "      <th>H_L0.1_weight</th>\n",
       "      <th>H_L0.1_mean</th>\n",
       "      <th>H_L0.1_variance</th>\n",
       "      <th>HH_L0.1_weight</th>\n",
       "      <th>HH_L0.1_mean</th>\n",
       "      <th>HH_L0.1_std</th>\n",
       "      <th>...</th>\n",
       "      <th>HH_jit_L0.1_mean</th>\n",
       "      <th>HH_jit_L0.1_variance</th>\n",
       "      <th>HpHp_L0.1_weight</th>\n",
       "      <th>HpHp_L0.1_mean</th>\n",
       "      <th>HpHp_L0.1_std</th>\n",
       "      <th>HpHp_L0.1_magnitude</th>\n",
       "      <th>HpHp_L0.1_radius</th>\n",
       "      <th>HpHp_L0.1_covariance</th>\n",
       "      <th>HpHp_L0.1_pcc</th>\n",
       "      <th>label</th>\n",
       "    </tr>\n",
       "  </thead>\n",
       "  <tbody>\n",
       "    <tr>\n",
       "      <th>0</th>\n",
       "      <td>0</td>\n",
       "      <td>1.000000</td>\n",
       "      <td>98.000000</td>\n",
       "      <td>0.000000e+00</td>\n",
       "      <td>1.000000</td>\n",
       "      <td>98.000000</td>\n",
       "      <td>0.000000e+00</td>\n",
       "      <td>1.00000</td>\n",
       "      <td>98.0</td>\n",
       "      <td>0.000000e+00</td>\n",
       "      <td>...</td>\n",
       "      <td>1.505914e+09</td>\n",
       "      <td>0.000000e+00</td>\n",
       "      <td>1.00000</td>\n",
       "      <td>98.0</td>\n",
       "      <td>0.000000</td>\n",
       "      <td>98.000000</td>\n",
       "      <td>0.000000e+00</td>\n",
       "      <td>0.0</td>\n",
       "      <td>0.0</td>\n",
       "      <td>0</td>\n",
       "    </tr>\n",
       "    <tr>\n",
       "      <th>1</th>\n",
       "      <td>1</td>\n",
       "      <td>1.931640</td>\n",
       "      <td>98.000000</td>\n",
       "      <td>1.818989e-12</td>\n",
       "      <td>1.931640</td>\n",
       "      <td>98.000000</td>\n",
       "      <td>1.818989e-12</td>\n",
       "      <td>1.93164</td>\n",
       "      <td>98.0</td>\n",
       "      <td>1.348699e-06</td>\n",
       "      <td>...</td>\n",
       "      <td>7.263102e+08</td>\n",
       "      <td>5.662344e+17</td>\n",
       "      <td>1.93164</td>\n",
       "      <td>98.0</td>\n",
       "      <td>0.000001</td>\n",
       "      <td>138.592929</td>\n",
       "      <td>1.818989e-12</td>\n",
       "      <td>0.0</td>\n",
       "      <td>0.0</td>\n",
       "      <td>0</td>\n",
       "    </tr>\n",
       "    <tr>\n",
       "      <th>2</th>\n",
       "      <td>2</td>\n",
       "      <td>2.904273</td>\n",
       "      <td>86.981750</td>\n",
       "      <td>2.311822e+02</td>\n",
       "      <td>2.904273</td>\n",
       "      <td>86.981750</td>\n",
       "      <td>2.311822e+02</td>\n",
       "      <td>1.00000</td>\n",
       "      <td>66.0</td>\n",
       "      <td>0.000000e+00</td>\n",
       "      <td>...</td>\n",
       "      <td>1.505914e+09</td>\n",
       "      <td>0.000000e+00</td>\n",
       "      <td>1.00000</td>\n",
       "      <td>66.0</td>\n",
       "      <td>0.000000</td>\n",
       "      <td>114.856432</td>\n",
       "      <td>0.000000e+00</td>\n",
       "      <td>0.0</td>\n",
       "      <td>0.0</td>\n",
       "      <td>0</td>\n",
       "    </tr>\n",
       "    <tr>\n",
       "      <th>3</th>\n",
       "      <td>3</td>\n",
       "      <td>3.902546</td>\n",
       "      <td>83.655268</td>\n",
       "      <td>2.040614e+02</td>\n",
       "      <td>3.902546</td>\n",
       "      <td>83.655268</td>\n",
       "      <td>2.040614e+02</td>\n",
       "      <td>1.00000</td>\n",
       "      <td>74.0</td>\n",
       "      <td>0.000000e+00</td>\n",
       "      <td>...</td>\n",
       "      <td>1.505914e+09</td>\n",
       "      <td>0.000000e+00</td>\n",
       "      <td>1.00000</td>\n",
       "      <td>74.0</td>\n",
       "      <td>0.000000</td>\n",
       "      <td>74.000000</td>\n",
       "      <td>0.000000e+00</td>\n",
       "      <td>0.0</td>\n",
       "      <td>0.0</td>\n",
       "      <td>0</td>\n",
       "    </tr>\n",
       "    <tr>\n",
       "      <th>4</th>\n",
       "      <td>4</td>\n",
       "      <td>4.902545</td>\n",
       "      <td>81.685828</td>\n",
       "      <td>1.775746e+02</td>\n",
       "      <td>4.902545</td>\n",
       "      <td>81.685828</td>\n",
       "      <td>1.775746e+02</td>\n",
       "      <td>2.00000</td>\n",
       "      <td>74.0</td>\n",
       "      <td>9.536743e-07</td>\n",
       "      <td>...</td>\n",
       "      <td>7.529571e+08</td>\n",
       "      <td>5.669445e+17</td>\n",
       "      <td>1.00000</td>\n",
       "      <td>74.0</td>\n",
       "      <td>0.000000</td>\n",
       "      <td>74.000000</td>\n",
       "      <td>0.000000e+00</td>\n",
       "      <td>0.0</td>\n",
       "      <td>0.0</td>\n",
       "      <td>0</td>\n",
       "    </tr>\n",
       "  </tbody>\n",
       "</table>\n",
       "<p>5 rows × 25 columns</p>\n",
       "</div>"
      ],
      "text/plain": [
       "   Unnamed: 0  MI_dir_L0.1_weight  MI_dir_L0.1_mean  MI_dir_L0.1_variance  \\\n",
       "0           0            1.000000         98.000000          0.000000e+00   \n",
       "1           1            1.931640         98.000000          1.818989e-12   \n",
       "2           2            2.904273         86.981750          2.311822e+02   \n",
       "3           3            3.902546         83.655268          2.040614e+02   \n",
       "4           4            4.902545         81.685828          1.775746e+02   \n",
       "\n",
       "   H_L0.1_weight  H_L0.1_mean  H_L0.1_variance  HH_L0.1_weight  HH_L0.1_mean  \\\n",
       "0       1.000000    98.000000     0.000000e+00         1.00000          98.0   \n",
       "1       1.931640    98.000000     1.818989e-12         1.93164          98.0   \n",
       "2       2.904273    86.981750     2.311822e+02         1.00000          66.0   \n",
       "3       3.902546    83.655268     2.040614e+02         1.00000          74.0   \n",
       "4       4.902545    81.685828     1.775746e+02         2.00000          74.0   \n",
       "\n",
       "    HH_L0.1_std  ...  HH_jit_L0.1_mean  HH_jit_L0.1_variance  \\\n",
       "0  0.000000e+00  ...      1.505914e+09          0.000000e+00   \n",
       "1  1.348699e-06  ...      7.263102e+08          5.662344e+17   \n",
       "2  0.000000e+00  ...      1.505914e+09          0.000000e+00   \n",
       "3  0.000000e+00  ...      1.505914e+09          0.000000e+00   \n",
       "4  9.536743e-07  ...      7.529571e+08          5.669445e+17   \n",
       "\n",
       "   HpHp_L0.1_weight  HpHp_L0.1_mean  HpHp_L0.1_std  HpHp_L0.1_magnitude  \\\n",
       "0           1.00000            98.0       0.000000            98.000000   \n",
       "1           1.93164            98.0       0.000001           138.592929   \n",
       "2           1.00000            66.0       0.000000           114.856432   \n",
       "3           1.00000            74.0       0.000000            74.000000   \n",
       "4           1.00000            74.0       0.000000            74.000000   \n",
       "\n",
       "   HpHp_L0.1_radius  HpHp_L0.1_covariance  HpHp_L0.1_pcc  label  \n",
       "0      0.000000e+00                   0.0            0.0      0  \n",
       "1      1.818989e-12                   0.0            0.0      0  \n",
       "2      0.000000e+00                   0.0            0.0      0  \n",
       "3      0.000000e+00                   0.0            0.0      0  \n",
       "4      0.000000e+00                   0.0            0.0      0  \n",
       "\n",
       "[5 rows x 25 columns]"
      ]
     },
     "execution_count": 3,
     "metadata": {},
     "output_type": "execute_result"
    }
   ],
   "source": [
    "ids_df.head()"
   ]
  },
  {
   "cell_type": "code",
   "execution_count": 4,
   "id": "ecb307e4",
   "metadata": {},
   "outputs": [
    {
     "data": {
      "text/html": [
       "<div>\n",
       "<style scoped>\n",
       "    .dataframe tbody tr th:only-of-type {\n",
       "        vertical-align: middle;\n",
       "    }\n",
       "\n",
       "    .dataframe tbody tr th {\n",
       "        vertical-align: top;\n",
       "    }\n",
       "\n",
       "    .dataframe thead th {\n",
       "        text-align: right;\n",
       "    }\n",
       "</style>\n",
       "<table border=\"1\" class=\"dataframe\">\n",
       "  <thead>\n",
       "    <tr style=\"text-align: right;\">\n",
       "      <th></th>\n",
       "      <th>Unnamed: 0</th>\n",
       "      <th>MI_dir_L0.1_weight</th>\n",
       "      <th>MI_dir_L0.1_mean</th>\n",
       "      <th>MI_dir_L0.1_variance</th>\n",
       "      <th>H_L0.1_weight</th>\n",
       "      <th>H_L0.1_mean</th>\n",
       "      <th>H_L0.1_variance</th>\n",
       "      <th>HH_L0.1_weight</th>\n",
       "      <th>HH_L0.1_mean</th>\n",
       "      <th>HH_L0.1_std</th>\n",
       "      <th>...</th>\n",
       "      <th>HH_jit_L0.1_mean</th>\n",
       "      <th>HH_jit_L0.1_variance</th>\n",
       "      <th>HpHp_L0.1_weight</th>\n",
       "      <th>HpHp_L0.1_mean</th>\n",
       "      <th>HpHp_L0.1_std</th>\n",
       "      <th>HpHp_L0.1_magnitude</th>\n",
       "      <th>HpHp_L0.1_radius</th>\n",
       "      <th>HpHp_L0.1_covariance</th>\n",
       "      <th>HpHp_L0.1_pcc</th>\n",
       "      <th>label</th>\n",
       "    </tr>\n",
       "  </thead>\n",
       "  <tbody>\n",
       "    <tr>\n",
       "      <th>count</th>\n",
       "      <td>2.426574e+06</td>\n",
       "      <td>2.426574e+06</td>\n",
       "      <td>2.426574e+06</td>\n",
       "      <td>2.426574e+06</td>\n",
       "      <td>2.426574e+06</td>\n",
       "      <td>2.426574e+06</td>\n",
       "      <td>2.426574e+06</td>\n",
       "      <td>2.426574e+06</td>\n",
       "      <td>2.426574e+06</td>\n",
       "      <td>2.426574e+06</td>\n",
       "      <td>...</td>\n",
       "      <td>2.426574e+06</td>\n",
       "      <td>2.426574e+06</td>\n",
       "      <td>2.426574e+06</td>\n",
       "      <td>2.426574e+06</td>\n",
       "      <td>2.426574e+06</td>\n",
       "      <td>2.426574e+06</td>\n",
       "      <td>2.426574e+06</td>\n",
       "      <td>2.426574e+06</td>\n",
       "      <td>2.426574e+06</td>\n",
       "      <td>2.426574e+06</td>\n",
       "    </tr>\n",
       "    <tr>\n",
       "      <th>mean</th>\n",
       "      <td>2.697342e+06</td>\n",
       "      <td>3.610199e+03</td>\n",
       "      <td>2.176135e+02</td>\n",
       "      <td>2.644564e+04</td>\n",
       "      <td>3.610199e+03</td>\n",
       "      <td>2.176138e+02</td>\n",
       "      <td>2.644569e+04</td>\n",
       "      <td>1.676056e+03</td>\n",
       "      <td>2.170561e+02</td>\n",
       "      <td>9.479734e+00</td>\n",
       "      <td>...</td>\n",
       "      <td>5.554230e+08</td>\n",
       "      <td>4.170853e+15</td>\n",
       "      <td>1.627457e+02</td>\n",
       "      <td>2.170255e+02</td>\n",
       "      <td>5.033178e+00</td>\n",
       "      <td>2.276344e+02</td>\n",
       "      <td>2.282595e+03</td>\n",
       "      <td>2.291038e+02</td>\n",
       "      <td>4.051784e-03</td>\n",
       "      <td>2.116140e-01</td>\n",
       "    </tr>\n",
       "    <tr>\n",
       "      <th>std</th>\n",
       "      <td>2.438426e+06</td>\n",
       "      <td>2.699672e+03</td>\n",
       "      <td>1.552091e+02</td>\n",
       "      <td>2.826344e+04</td>\n",
       "      <td>2.699672e+03</td>\n",
       "      <td>1.552092e+02</td>\n",
       "      <td>2.826340e+04</td>\n",
       "      <td>2.195495e+03</td>\n",
       "      <td>2.218185e+02</td>\n",
       "      <td>3.522442e+01</td>\n",
       "      <td>...</td>\n",
       "      <td>7.242537e+08</td>\n",
       "      <td>4.445099e+16</td>\n",
       "      <td>6.914904e+02</td>\n",
       "      <td>2.223230e+02</td>\n",
       "      <td>3.215324e+01</td>\n",
       "      <td>2.237813e+02</td>\n",
       "      <td>2.279659e+04</td>\n",
       "      <td>3.097686e+03</td>\n",
       "      <td>7.820544e-02</td>\n",
       "      <td>4.084527e-01</td>\n",
       "    </tr>\n",
       "    <tr>\n",
       "      <th>min</th>\n",
       "      <td>0.000000e+00</td>\n",
       "      <td>1.000000e+00</td>\n",
       "      <td>6.000000e+01</td>\n",
       "      <td>0.000000e+00</td>\n",
       "      <td>1.000000e+00</td>\n",
       "      <td>6.000000e+01</td>\n",
       "      <td>0.000000e+00</td>\n",
       "      <td>1.000000e+00</td>\n",
       "      <td>6.000000e+01</td>\n",
       "      <td>0.000000e+00</td>\n",
       "      <td>...</td>\n",
       "      <td>2.484468e-03</td>\n",
       "      <td>0.000000e+00</td>\n",
       "      <td>1.000000e+00</td>\n",
       "      <td>6.000000e+01</td>\n",
       "      <td>0.000000e+00</td>\n",
       "      <td>6.000000e+01</td>\n",
       "      <td>0.000000e+00</td>\n",
       "      <td>-1.312975e+05</td>\n",
       "      <td>-1.586467e+00</td>\n",
       "      <td>0.000000e+00</td>\n",
       "    </tr>\n",
       "    <tr>\n",
       "      <th>25%</th>\n",
       "      <td>6.701352e+05</td>\n",
       "      <td>2.353273e+01</td>\n",
       "      <td>6.939999e+01</td>\n",
       "      <td>4.293744e+01</td>\n",
       "      <td>2.353273e+01</td>\n",
       "      <td>6.939999e+01</td>\n",
       "      <td>4.293948e+01</td>\n",
       "      <td>1.000000e+00</td>\n",
       "      <td>6.000000e+01</td>\n",
       "      <td>0.000000e+00</td>\n",
       "      <td>...</td>\n",
       "      <td>2.574434e+00</td>\n",
       "      <td>0.000000e+00</td>\n",
       "      <td>1.000000e+00</td>\n",
       "      <td>6.000000e+01</td>\n",
       "      <td>0.000000e+00</td>\n",
       "      <td>6.000000e+01</td>\n",
       "      <td>0.000000e+00</td>\n",
       "      <td>0.000000e+00</td>\n",
       "      <td>0.000000e+00</td>\n",
       "      <td>0.000000e+00</td>\n",
       "    </tr>\n",
       "    <tr>\n",
       "      <th>50%</th>\n",
       "      <td>1.579600e+06</td>\n",
       "      <td>3.865927e+03</td>\n",
       "      <td>1.349122e+02</td>\n",
       "      <td>1.116808e+04</td>\n",
       "      <td>3.865927e+03</td>\n",
       "      <td>1.349122e+02</td>\n",
       "      <td>1.116905e+04</td>\n",
       "      <td>3.503137e+00</td>\n",
       "      <td>7.399769e+01</td>\n",
       "      <td>1.675691e-01</td>\n",
       "      <td>...</td>\n",
       "      <td>8.186898e+02</td>\n",
       "      <td>1.604401e+01</td>\n",
       "      <td>1.000000e+00</td>\n",
       "      <td>7.400000e+01</td>\n",
       "      <td>0.000000e+00</td>\n",
       "      <td>7.400000e+01</td>\n",
       "      <td>0.000000e+00</td>\n",
       "      <td>0.000000e+00</td>\n",
       "      <td>0.000000e+00</td>\n",
       "      <td>0.000000e+00</td>\n",
       "    </tr>\n",
       "    <tr>\n",
       "      <th>75%</th>\n",
       "      <td>3.744352e+06</td>\n",
       "      <td>6.339465e+03</td>\n",
       "      <td>3.821550e+02</td>\n",
       "      <td>5.520453e+04</td>\n",
       "      <td>6.339465e+03</td>\n",
       "      <td>3.821550e+02</td>\n",
       "      <td>5.520453e+04</td>\n",
       "      <td>4.128297e+03</td>\n",
       "      <td>5.538333e+02</td>\n",
       "      <td>6.785243e+00</td>\n",
       "      <td>...</td>\n",
       "      <td>1.507653e+09</td>\n",
       "      <td>2.382293e+09</td>\n",
       "      <td>1.049115e+00</td>\n",
       "      <td>5.540000e+02</td>\n",
       "      <td>0.000000e+00</td>\n",
       "      <td>5.540000e+02</td>\n",
       "      <td>4.550000e-13</td>\n",
       "      <td>0.000000e+00</td>\n",
       "      <td>0.000000e+00</td>\n",
       "      <td>0.000000e+00</td>\n",
       "    </tr>\n",
       "    <tr>\n",
       "      <th>max</th>\n",
       "      <td>7.062075e+06</td>\n",
       "      <td>8.946997e+03</td>\n",
       "      <td>1.401994e+03</td>\n",
       "      <td>4.520011e+05</td>\n",
       "      <td>8.946997e+03</td>\n",
       "      <td>1.401994e+03</td>\n",
       "      <td>4.520011e+05</td>\n",
       "      <td>7.944987e+03</td>\n",
       "      <td>1.470000e+03</td>\n",
       "      <td>6.784580e+02</td>\n",
       "      <td>...</td>\n",
       "      <td>1.534253e+09</td>\n",
       "      <td>5.880000e+17</td>\n",
       "      <td>4.594455e+03</td>\n",
       "      <td>1.470000e+03</td>\n",
       "      <td>6.863705e+02</td>\n",
       "      <td>1.470000e+03</td>\n",
       "      <td>5.014297e+05</td>\n",
       "      <td>1.406094e+05</td>\n",
       "      <td>2.760701e+00</td>\n",
       "      <td>1.000000e+00</td>\n",
       "    </tr>\n",
       "  </tbody>\n",
       "</table>\n",
       "<p>8 rows × 25 columns</p>\n",
       "</div>"
      ],
      "text/plain": [
       "         Unnamed: 0  MI_dir_L0.1_weight  MI_dir_L0.1_mean  \\\n",
       "count  2.426574e+06        2.426574e+06      2.426574e+06   \n",
       "mean   2.697342e+06        3.610199e+03      2.176135e+02   \n",
       "std    2.438426e+06        2.699672e+03      1.552091e+02   \n",
       "min    0.000000e+00        1.000000e+00      6.000000e+01   \n",
       "25%    6.701352e+05        2.353273e+01      6.939999e+01   \n",
       "50%    1.579600e+06        3.865927e+03      1.349122e+02   \n",
       "75%    3.744352e+06        6.339465e+03      3.821550e+02   \n",
       "max    7.062075e+06        8.946997e+03      1.401994e+03   \n",
       "\n",
       "       MI_dir_L0.1_variance  H_L0.1_weight   H_L0.1_mean  H_L0.1_variance  \\\n",
       "count          2.426574e+06   2.426574e+06  2.426574e+06     2.426574e+06   \n",
       "mean           2.644564e+04   3.610199e+03  2.176138e+02     2.644569e+04   \n",
       "std            2.826344e+04   2.699672e+03  1.552092e+02     2.826340e+04   \n",
       "min            0.000000e+00   1.000000e+00  6.000000e+01     0.000000e+00   \n",
       "25%            4.293744e+01   2.353273e+01  6.939999e+01     4.293948e+01   \n",
       "50%            1.116808e+04   3.865927e+03  1.349122e+02     1.116905e+04   \n",
       "75%            5.520453e+04   6.339465e+03  3.821550e+02     5.520453e+04   \n",
       "max            4.520011e+05   8.946997e+03  1.401994e+03     4.520011e+05   \n",
       "\n",
       "       HH_L0.1_weight  HH_L0.1_mean   HH_L0.1_std  ...  HH_jit_L0.1_mean  \\\n",
       "count    2.426574e+06  2.426574e+06  2.426574e+06  ...      2.426574e+06   \n",
       "mean     1.676056e+03  2.170561e+02  9.479734e+00  ...      5.554230e+08   \n",
       "std      2.195495e+03  2.218185e+02  3.522442e+01  ...      7.242537e+08   \n",
       "min      1.000000e+00  6.000000e+01  0.000000e+00  ...      2.484468e-03   \n",
       "25%      1.000000e+00  6.000000e+01  0.000000e+00  ...      2.574434e+00   \n",
       "50%      3.503137e+00  7.399769e+01  1.675691e-01  ...      8.186898e+02   \n",
       "75%      4.128297e+03  5.538333e+02  6.785243e+00  ...      1.507653e+09   \n",
       "max      7.944987e+03  1.470000e+03  6.784580e+02  ...      1.534253e+09   \n",
       "\n",
       "       HH_jit_L0.1_variance  HpHp_L0.1_weight  HpHp_L0.1_mean  HpHp_L0.1_std  \\\n",
       "count          2.426574e+06      2.426574e+06    2.426574e+06   2.426574e+06   \n",
       "mean           4.170853e+15      1.627457e+02    2.170255e+02   5.033178e+00   \n",
       "std            4.445099e+16      6.914904e+02    2.223230e+02   3.215324e+01   \n",
       "min            0.000000e+00      1.000000e+00    6.000000e+01   0.000000e+00   \n",
       "25%            0.000000e+00      1.000000e+00    6.000000e+01   0.000000e+00   \n",
       "50%            1.604401e+01      1.000000e+00    7.400000e+01   0.000000e+00   \n",
       "75%            2.382293e+09      1.049115e+00    5.540000e+02   0.000000e+00   \n",
       "max            5.880000e+17      4.594455e+03    1.470000e+03   6.863705e+02   \n",
       "\n",
       "       HpHp_L0.1_magnitude  HpHp_L0.1_radius  HpHp_L0.1_covariance  \\\n",
       "count         2.426574e+06      2.426574e+06          2.426574e+06   \n",
       "mean          2.276344e+02      2.282595e+03          2.291038e+02   \n",
       "std           2.237813e+02      2.279659e+04          3.097686e+03   \n",
       "min           6.000000e+01      0.000000e+00         -1.312975e+05   \n",
       "25%           6.000000e+01      0.000000e+00          0.000000e+00   \n",
       "50%           7.400000e+01      0.000000e+00          0.000000e+00   \n",
       "75%           5.540000e+02      4.550000e-13          0.000000e+00   \n",
       "max           1.470000e+03      5.014297e+05          1.406094e+05   \n",
       "\n",
       "       HpHp_L0.1_pcc         label  \n",
       "count   2.426574e+06  2.426574e+06  \n",
       "mean    4.051784e-03  2.116140e-01  \n",
       "std     7.820544e-02  4.084527e-01  \n",
       "min    -1.586467e+00  0.000000e+00  \n",
       "25%     0.000000e+00  0.000000e+00  \n",
       "50%     0.000000e+00  0.000000e+00  \n",
       "75%     0.000000e+00  0.000000e+00  \n",
       "max     2.760701e+00  1.000000e+00  \n",
       "\n",
       "[8 rows x 25 columns]"
      ]
     },
     "execution_count": 4,
     "metadata": {},
     "output_type": "execute_result"
    }
   ],
   "source": [
    "ids_df.describe()"
   ]
  },
  {
   "cell_type": "code",
   "execution_count": 5,
   "id": "f1cc6a64",
   "metadata": {},
   "outputs": [],
   "source": [
    "X = ids_df.drop(columns='label')\n",
    "y = ids_df['label']"
   ]
  },
  {
   "cell_type": "code",
   "execution_count": 6,
   "id": "ae746521",
   "metadata": {},
   "outputs": [
    {
     "data": {
      "text/plain": [
       "array([[-1.10618203, -1.33690278, -0.77066063, -0.93568386, -1.33690282,\n",
       "        -0.77066187, -0.93568679, -0.76295165, -0.53672767, -0.26912397,\n",
       "        -0.59514903, -0.1401783 ,  0.07255349, -0.06421856, -0.76295165,\n",
       "         1.31237371, -0.09383039, -0.23390887, -0.53537193, -0.15653723,\n",
       "        -0.57929057, -0.10012883, -0.07395966, -0.0518095 ],\n",
       "       [-1.10618162, -1.33655769, -0.77066063, -0.93568386, -1.33655773,\n",
       "        -0.77066187, -0.93568679, -0.76252731, -0.53672767, -0.26912393,\n",
       "        -0.41252495, -0.1401783 ,  0.07255349, -0.06421856, -0.76252731,\n",
       "         0.23594935, 12.64457016, -0.23256158, -0.53537193, -0.15653719,\n",
       "        -0.39789502, -0.10012883, -0.07395966, -0.0518095 ],\n",
       "       [-1.10618121, -1.33619741, -0.84165036, -0.92750431, -1.33619745,\n",
       "        -0.84165154, -0.92750723, -0.76295165, -0.68098978, -0.26912397,\n",
       "        -0.5193134 , -0.1401783 ,  0.07255349, -0.06421856, -0.76295165,\n",
       "         1.31237371, -0.09383039, -0.23390887, -0.6793067 , -0.15653723,\n",
       "        -0.50396509, -0.10012883, -0.07395966, -0.0518095 ],\n",
       "       [-1.1061808 , -1.33582763, -0.86308263, -0.92846388, -1.33582767,\n",
       "        -0.86308379, -0.9284668 , -0.76295165, -0.64492426, -0.26912397,\n",
       "        -0.70312295, -0.1401783 ,  0.07255349, -0.06421856, -0.76295165,\n",
       "         1.31237371, -0.09383039, -0.23390887, -0.64332301, -0.15653723,\n",
       "        -0.68653815, -0.10012883, -0.07395966, -0.0518095 ],\n",
       "       [-1.10618039, -1.33545722, -0.87577158, -0.92940102, -1.33545726,\n",
       "        -0.87577273, -0.92940394, -0.76249617, -0.64492426, -0.26912395,\n",
       "        -0.70312295, -0.1401783 ,  0.07255349, -0.06421856, -0.76249617,\n",
       "         0.27274156, 12.66054424, -0.23390887, -0.64332301, -0.15653723,\n",
       "        -0.68653815, -0.10012883, -0.07395966, -0.0518095 ]])"
      ]
     },
     "execution_count": 6,
     "metadata": {},
     "output_type": "execute_result"
    }
   ],
   "source": [
    "from sklearn import preprocessing\n",
    "X = preprocessing.StandardScaler().fit(X).transform(X.astype(float))\n",
    "X[0:5]"
   ]
  },
  {
   "cell_type": "code",
   "execution_count": 7,
   "id": "bd4e32a5",
   "metadata": {},
   "outputs": [],
   "source": [
    "from sklearn.model_selection import train_test_split\n",
    "X_train, X_test,y_train,y_test = train_test_split(X,y,test_size=0.2)"
   ]
  },
  {
   "cell_type": "code",
   "execution_count": 8,
   "id": "45c1fa7c",
   "metadata": {},
   "outputs": [
    {
     "data": {
      "text/plain": [
       "(485315, 24)"
      ]
     },
     "execution_count": 8,
     "metadata": {},
     "output_type": "execute_result"
    }
   ],
   "source": [
    "X_test.shape"
   ]
  },
  {
   "cell_type": "code",
   "execution_count": 9,
   "id": "3b1dc4d7",
   "metadata": {},
   "outputs": [
    {
     "data": {
      "text/plain": [
       "(485315,)"
      ]
     },
     "execution_count": 9,
     "metadata": {},
     "output_type": "execute_result"
    }
   ],
   "source": [
    "y_test.shape"
   ]
  },
  {
   "cell_type": "code",
   "execution_count": 10,
   "id": "e737aaf0",
   "metadata": {},
   "outputs": [
    {
     "data": {
      "text/plain": [
       "(1941259, 24)"
      ]
     },
     "execution_count": 10,
     "metadata": {},
     "output_type": "execute_result"
    }
   ],
   "source": [
    "X_train.shape"
   ]
  },
  {
   "cell_type": "code",
   "execution_count": 11,
   "id": "5e47d24a",
   "metadata": {},
   "outputs": [
    {
     "data": {
      "text/plain": [
       "(1941259,)"
      ]
     },
     "execution_count": 11,
     "metadata": {},
     "output_type": "execute_result"
    }
   ],
   "source": [
    "y_train.shape"
   ]
  },
  {
   "cell_type": "code",
   "execution_count": 12,
   "id": "89602186",
   "metadata": {},
   "outputs": [],
   "source": [
    "from sklearn.neighbors import KNeighborsClassifier\n",
    "k=4\n",
    "neigh = KNeighborsClassifier(n_neighbors = k)\n"
   ]
  },
  {
   "cell_type": "code",
   "execution_count": 13,
   "id": "a32ff073",
   "metadata": {},
   "outputs": [],
   "source": [
    "neigh = neigh.fit(X_train,y_train)"
   ]
  },
  {
   "cell_type": "code",
   "execution_count": 14,
   "id": "644eb9fd",
   "metadata": {},
   "outputs": [],
   "source": [
    "y_pred = neigh.predict(X_test)"
   ]
  },
  {
   "cell_type": "code",
   "execution_count": 15,
   "id": "b67ae0f6",
   "metadata": {},
   "outputs": [
    {
     "name": "stdout",
     "output_type": "stream",
     "text": [
      "Train set accuracy:  0.999990727666942\n",
      "Test set accuracy:  0.9999876368956245\n"
     ]
    }
   ],
   "source": [
    "from sklearn import metrics\n",
    "print(\"Train set accuracy: \", metrics.accuracy_score(y_train,neigh.predict(X_train)))\n",
    "print(\"Test set accuracy: \", metrics.accuracy_score(y_test,y_pred))"
   ]
  },
  {
   "cell_type": "code",
   "execution_count": 16,
   "id": "d6de8329",
   "metadata": {},
   "outputs": [
    {
     "name": "stdout",
     "output_type": "stream",
     "text": [
      "Accuracy: 0.9999876368956245\n"
     ]
    }
   ],
   "source": [
    "result = neigh.score(X_test,y_test)\n",
    "print(\"Accuracy: {}\".format(result))"
   ]
  },
  {
   "cell_type": "code",
   "execution_count": 18,
   "id": "bf529387",
   "metadata": {},
   "outputs": [
    {
     "name": "stdout",
     "output_type": "stream",
     "text": [
      "              precision    recall  f1-score   support\n",
      "\n",
      "           0       1.00      1.00      1.00    383153\n",
      "           1       1.00      1.00      1.00    102162\n",
      "\n",
      "    accuracy                           1.00    485315\n",
      "   macro avg       1.00      1.00      1.00    485315\n",
      "weighted avg       1.00      1.00      1.00    485315\n",
      "\n"
     ]
    }
   ],
   "source": [
    "from sklearn.metrics import classification_report\n",
    "print(classification_report(y_test,y_pred))"
   ]
  },
  {
   "cell_type": "code",
   "execution_count": 19,
   "id": "40437594",
   "metadata": {},
   "outputs": [
    {
     "data": {
      "text/plain": [
       "<Axes: >"
      ]
     },
     "execution_count": 19,
     "metadata": {},
     "output_type": "execute_result"
    },
    {
     "data": {
      "image/png": "[encoded data removed]",
      "text/plain": [
       "<Figure size 640x480 with 2 Axes>"
      ]
     },
     "metadata": {},
     "output_type": "display_data"
    }
   ],
   "source": [
    "from sklearn.metrics import confusion_matrix\n",
    "cm = confusion_matrix(y_test, y_pred)\n",
    "sns.heatmap(cm, fmt='d', annot=True)"
   ]
  }
 ],
 "metadata": {
  "kernelspec": {
   "display_name": "Python 3 (ipykernel)",
   "language": "python",
   "name": "python3"
  },
  "language_info": {
   "codemirror_mode": {
    "name": "ipython",
    "version": 3
   },
   "file_extension": ".py",
   "mimetype": "text/x-python",
   "name": "python",
   "nbconvert_exporter": "python",
   "pygments_lexer": "ipython3",
   "version": "3.10.9"
  }
 },
 "nbformat": 4,
 "nbformat_minor": 5
}
