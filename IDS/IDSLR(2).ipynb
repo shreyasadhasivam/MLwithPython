{
 "cells": [
  {
   "cell_type": "code",
   "execution_count": 1,
   "id": "d10c1f6c",
   "metadata": {},
   "outputs": [],
   "source": [
    "import numpy as np\n",
    "import pandas as pd\n",
    "import matplotlib.pyplot as plt\n",
    "import seaborn as sns"
   ]
  },
  {
   "cell_type": "code",
   "execution_count": null,
   "id": "87bbf513",
   "metadata": {},
   "outputs": [],
   "source": [
    "ids_df = pd.read_csv('IDSdataset2.csv')"
   ]
  },
  {
   "cell_type": "code",
   "execution_count": null,
   "id": "d7d39a83",
   "metadata": {},
   "outputs": [],
   "source": [
    "ids_df.head\n",
    "\n",
    "ids_df.describe()\n",
    "\n",
    "#to check for missing values\n",
    "ids_df.isna().sum()"
   ]
  },
  {
   "cell_type": "code",
   "execution_count": null,
   "id": "cacf5aac",
   "metadata": {},
   "outputs": [],
   "source": [
    "#since there are categorical variables, convert categorical variables to numerical\n",
    "from sklearn.preprocessing import OneHotEncoder\n",
    "ids_df['Device_Name'] = ids_df['Device_Name'].astype('category')\n",
    "ids_df['Attack'] = ids_df['Attack'].astype('category')\n",
    "ids_df['Attack_subType'] = ids_df['Attack_subType'].astype('category')\n",
    "\n",
    "ids_df['Device_Name'] = ids_df['Device_Name'].cat.codes\n",
    "ids_df['Attack'] = ids_df['Attack'].cat.codes\n",
    "ids_df['Attack_subType'] = ids_df['Attack_subType'].cat.codes\n",
    "\n",
    "enc = OneHotEncoder(sparse_output=False)\n",
    "\n",
    "enc_data = pd.DataFrame(enc.fit_transform(\n",
    "    ids_df[['Device_Name','Attack','Attack_subType']]))\n",
    "\n",
    "ids_df = ids_df.join(enc_data)"
   ]
  },
  {
   "cell_type": "code",
   "execution_count": null,
   "id": "ebd2cacc",
   "metadata": {},
   "outputs": [],
   "source": [
    "X = ids_df.drop(columns='label')\n",
    "y = ids_df['label']"
   ]
  },
  {
   "cell_type": "code",
   "execution_count": null,
   "id": "513661e7",
   "metadata": {},
   "outputs": [],
   "source": [
    "X.columns = X.columns.astype(str)"
   ]
  }
 ],
 "metadata": {
  "kernelspec": {
   "display_name": "Python 3 (ipykernel)",
   "language": "python",
   "name": "python3"
  }
 },
 "nbformat": 4,
 "nbformat_minor": 5
}
