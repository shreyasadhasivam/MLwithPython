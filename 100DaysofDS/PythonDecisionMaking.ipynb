{
 "cells": [
  {
   "cell_type": "markdown",
   "id": "bd5f92b0",
   "metadata": {},
   "source": [
    "Python if-else statement"
   ]
  },
  {
   "cell_type": "code",
   "execution_count": 1,
   "id": "b22ee7eb",
   "metadata": {},
   "outputs": [
    {
     "name": "stdout",
     "output_type": "stream",
     "text": [
      "True\n"
     ]
    }
   ],
   "source": [
    "number = 10\n",
    "if number>0:\n",
    "    print('True')\n",
    "else:\n",
    "    print('False')"
   ]
  },
  {
   "cell_type": "markdown",
   "id": "cf8f894c",
   "metadata": {},
   "source": [
    "Python if-elif-else statement"
   ]
  },
  {
   "cell_type": "code",
   "execution_count": 2,
   "id": "f4f0dda5",
   "metadata": {},
   "outputs": [
    {
     "name": "stdout",
     "output_type": "stream",
     "text": [
      "Number is positive\n"
     ]
    }
   ],
   "source": [
    "a = 10\n",
    "b = 5\n",
    "\n",
    "if a>b:\n",
    "    print('Number is positive')\n",
    "elif a==b:\n",
    "    print('Both are equal')\n",
    "else:\n",
    "    print('Number is negative')"
   ]
  },
  {
   "cell_type": "markdown",
   "id": "63d95e5d",
   "metadata": {},
   "source": [
    "Nested-if loops"
   ]
  },
  {
   "cell_type": "code",
   "execution_count": 3,
   "id": "5f923c87",
   "metadata": {},
   "outputs": [
    {
     "name": "stdout",
     "output_type": "stream",
     "text": [
      "Number is 10\n"
     ]
    }
   ],
   "source": [
    "number = 10\n",
    "\n",
    "if number>= 0:\n",
    "    if number==10:\n",
    "        print('Number is 10')\n",
    "    else:\n",
    "        print('Number is positive')\n",
    "else:\n",
    "    print('Number is negative')\n",
    "    "
   ]
  },
  {
   "cell_type": "markdown",
   "id": "9e99d67c",
   "metadata": {},
   "source": [
    "Python for loop:\n",
    "Loop are used to repeat the block of code"
   ]
  },
  {
   "cell_type": "code",
   "execution_count": 4,
   "id": "573ee8e7",
   "metadata": {},
   "outputs": [
    {
     "name": "stdout",
     "output_type": "stream",
     "text": [
      "0\n",
      "1\n",
      "2\n",
      "3\n"
     ]
    }
   ],
   "source": [
    "#iterate from i=0 to i=3\n",
    "\n",
    "for i in range(0,4):\n",
    "    print(i)"
   ]
  },
  {
   "cell_type": "code",
   "execution_count": 5,
   "id": "476ce0d7",
   "metadata": {},
   "outputs": [
    {
     "name": "stdout",
     "output_type": "stream",
     "text": [
      "0\n",
      "1\n",
      "2\n",
      "No\n"
     ]
    }
   ],
   "source": [
    "sample = [0,1,2]\n",
    "for i in sample:\n",
    "    print(i)\n",
    "else:\n",
    "    print('No')"
   ]
  },
  {
   "cell_type": "markdown",
   "id": "65d48c55",
   "metadata": {},
   "source": [
    "    While LOOP"
   ]
  },
  {
   "cell_type": "code",
   "execution_count": 6,
   "id": "7a5ace39",
   "metadata": {},
   "outputs": [
    {
     "name": "stdout",
     "output_type": "stream",
     "text": [
      "5\n",
      "6\n",
      "7\n",
      "8\n",
      "9\n",
      "10\n"
     ]
    }
   ],
   "source": [
    "#initialize the variable\n",
    "\n",
    "i = 5\n",
    "n = 10\n",
    "\n",
    "#while loop from i=1 to 5\n",
    "\n",
    "while i<=n:\n",
    "    print(i)\n",
    "    i = i+1"
   ]
  },
  {
   "cell_type": "markdown",
   "id": "e2c1ef3f",
   "metadata": {},
   "source": [
    "while loop with else"
   ]
  },
  {
   "cell_type": "code",
   "execution_count": 7,
   "id": "c5b983c8",
   "metadata": {},
   "outputs": [
    {
     "name": "stdout",
     "output_type": "stream",
     "text": [
      "Hi\n",
      "Hi\n",
      "Hi\n",
      "Bye\n"
     ]
    }
   ],
   "source": [
    "sample = 0\n",
    "while sample<3:\n",
    "    print('Hi')\n",
    "    sample = sample + 1\n",
    "else:\n",
    "    print('Bye')"
   ]
  },
  {
   "cell_type": "code",
   "execution_count": 8,
   "id": "a1680f58",
   "metadata": {},
   "outputs": [
    {
     "name": "stdout",
     "output_type": "stream",
     "text": [
      "0\n",
      "1\n",
      "2\n"
     ]
    }
   ],
   "source": [
    "#break statement\n",
    "\n",
    "for i in range(5):\n",
    "    if i==3:\n",
    "        break #terminate the loop\n",
    "    print(i)"
   ]
  },
  {
   "cell_type": "code",
   "execution_count": 9,
   "id": "a2738473",
   "metadata": {},
   "outputs": [
    {
     "name": "stdout",
     "output_type": "stream",
     "text": [
      "0\n",
      "1\n",
      "2\n",
      "4\n"
     ]
    }
   ],
   "source": [
    "#continue statement\n",
    "\n",
    "for i in range(5):\n",
    "    if i ==3:\n",
    "        continue\n",
    "    print(i)"
   ]
  }
 ],
 "metadata": {
  "kernelspec": {
   "display_name": "Python 3 (ipykernel)",
   "language": "python",
   "name": "python3"
  },
  "language_info": {
   "codemirror_mode": {
    "name": "ipython",
    "version": 3
   },
   "file_extension": ".py",
   "mimetype": "text/x-python",
   "name": "python",
   "nbconvert_exporter": "python",
   "pygments_lexer": "ipython3",
   "version": "3.10.9"
  }
 },
 "nbformat": 4,
 "nbformat_minor": 5
}
