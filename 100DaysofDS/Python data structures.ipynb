{
 "cells": [
  {
   "cell_type": "markdown",
   "id": "70db96ad",
   "metadata": {},
   "source": [
    "\n",
    "List It is an ordered collection of similar or different types of items separated by commas and enclosed within brackets[]."
   ]
  },
  {
   "cell_type": "code",
   "execution_count": 1,
   "id": "ede0d58c",
   "metadata": {},
   "outputs": [
    {
     "name": "stdout",
     "output_type": "stream",
     "text": [
      "Audi\n",
      "<class 'list'>\n"
     ]
    }
   ],
   "source": [
    "car = [\"polo\",\"Audi\",\"BMW\"]\n",
    "print(car[1])\n",
    "print(type(car))"
   ]
  },
  {
   "cell_type": "markdown",
   "id": "e1869fef",
   "metadata": {},
   "source": [
    "Append: append() adds an element at the end of the list"
   ]
  },
  {
   "cell_type": "code",
   "execution_count": 2,
   "id": "c6fbc3d6",
   "metadata": {},
   "outputs": [],
   "source": [
    "sample = [1,2,3,4,5,6]\n",
    "sample.append(5)\n",
    "sample.append([7,8,9])\n",
    "sample.extend([6,7,8])"
   ]
  },
  {
   "cell_type": "markdown",
   "id": "35077dc2",
   "metadata": {},
   "source": [
    "#### Slicing"
   ]
  },
  {
   "cell_type": "code",
   "execution_count": 3,
   "id": "b9b65595",
   "metadata": {},
   "outputs": [
    {
     "name": "stdout",
     "output_type": "stream",
     "text": [
      "[1, 2, 3, 4]\n",
      "[1, 2, 3, 4, 5, 6, 7]\n",
      "[7, 6, 5, 4, 3, 2, 1]\n",
      "[7]\n"
     ]
    }
   ],
   "source": [
    "list = [1,2,3,4,5,6,7]\n",
    "print(list[0:4])\n",
    "print(list[::])\n",
    "print(list[::-1])\n",
    "print(list[-1::])"
   ]
  },
  {
   "cell_type": "markdown",
   "id": "54e0257e",
   "metadata": {},
   "source": [
    "#### Deleting elements in list"
   ]
  },
  {
   "cell_type": "code",
   "execution_count": 4,
   "id": "650107d5",
   "metadata": {},
   "outputs": [
    {
     "name": "stdout",
     "output_type": "stream",
     "text": [
      "3\n",
      "[1, 2, 4, 5, 6, 7]\n",
      "[1, 2, 5, 6, 7]\n",
      "[]\n"
     ]
    }
   ],
   "source": [
    "list = [1,2,3,4,5,6,7]\n",
    "print(list.pop(2))\n",
    "print(list)\n",
    "list.remove(4)\n",
    "print(list)\n",
    "list.clear()\n",
    "print(list)"
   ]
  },
  {
   "cell_type": "markdown",
   "id": "5fc3b452",
   "metadata": {},
   "source": [
    "# Tuples"
   ]
  },
  {
   "cell_type": "code",
   "execution_count": 5,
   "id": "ed1d99ba",
   "metadata": {},
   "outputs": [
    {
     "name": "stdout",
     "output_type": "stream",
     "text": [
      "()\n",
      "(10, 20, 30)\n",
      "(1, 'Hello', 3.4)\n",
      "('mouse', [8, 4, 6], (1, 2, 3))\n"
     ]
    }
   ],
   "source": [
    "#Different types of tuples\n",
    "\n",
    "#Empty tuple\n",
    "tuple = ()\n",
    "print(tuple)\n",
    "\n",
    "#integers\n",
    "tuple = (10,20,30)\n",
    "print(tuple)\n",
    "\n",
    "#mixed datatypes\n",
    "tuple = (1,\"Hello\",3.4)\n",
    "print(tuple)\n",
    "\n",
    "#nested tuple\n",
    "tuple = (\"mouse\",[8,4,6],(1,2,3))\n",
    "print(tuple)\n"
   ]
  },
  {
   "cell_type": "code",
   "execution_count": 6,
   "id": "682f742c",
   "metadata": {},
   "outputs": [
    {
     "name": "stdout",
     "output_type": "stream",
     "text": [
      "(2, 3, 4)\n",
      "(1, 2)\n",
      "(8, 9)\n",
      "(1, 2, 3, 4, 5, 6, 7, 8, 9)\n"
     ]
    }
   ],
   "source": [
    "# accessing tuple\n",
    "tuple = (1,2,3,4,5,6,7,8,9)\n",
    "\n",
    "print(tuple[1:4])\n",
    "\n",
    "print(tuple[:-7])\n",
    "\n",
    "print(tuple[7:])\n",
    "\n",
    "print(tuple[:])\n",
    "     "
   ]
  },
  {
   "cell_type": "code",
   "execution_count": 7,
   "id": "50150ab4",
   "metadata": {},
   "outputs": [
    {
     "name": "stdout",
     "output_type": "stream",
     "text": [
      "tuple\n",
      "1\n",
      "tuple\n",
      "2\n",
      "tuple\n",
      "3\n",
      "tuple\n",
      "4\n"
     ]
    }
   ],
   "source": [
    "tuple = (1,2,3,4)  #iterating through tuple\n",
    "for tuple in tuple:\n",
    "    print(\"tuple\")\n",
    "    print(tuple)"
   ]
  },
  {
   "cell_type": "markdown",
   "id": "8f061133",
   "metadata": {},
   "source": [
    "# Sets"
   ]
  },
  {
   "cell_type": "code",
   "execution_count": 8,
   "id": "35231c34",
   "metadata": {},
   "outputs": [
    {
     "name": "stdout",
     "output_type": "stream",
     "text": [
      "{8, 2, 4, 6}\n"
     ]
    }
   ],
   "source": [
    "#Empty curly braces { } will make an empty dictionary in Python.\n",
    "num = {2, 4, 6, 6, 2, 8}\n",
    "print(num)"
   ]
  },
  {
   "cell_type": "code",
   "execution_count": 9,
   "id": "1696adcf",
   "metadata": {},
   "outputs": [
    {
     "name": "stdout",
     "output_type": "stream",
     "text": [
      "before: {75, 45, 30, 39}\n",
      "after: {32, 39, 75, 45, 30}\n"
     ]
    }
   ],
   "source": [
    "num = {45, 39, 30, 75}\n",
    "\n",
    "print('before:',num)\n",
    "num.add(32)\n",
    "print('after:', num)"
   ]
  },
  {
   "cell_type": "code",
   "execution_count": 10,
   "id": "86a27395",
   "metadata": {},
   "outputs": [
    {
     "name": "stdout",
     "output_type": "stream",
     "text": [
      "before: {'Python', 'React', 'Java'}\n",
      "after: {'Python', 'React'}\n"
     ]
    }
   ],
   "source": [
    "languages = {'React', 'Java', 'Python'}\n",
    "\n",
    "print('before:',languages)\n",
    "removedValue = languages.discard('Java')\n",
    "print('after:', languages)"
   ]
  },
  {
   "cell_type": "code",
   "execution_count": 11,
   "id": "dc259c41",
   "metadata": {},
   "outputs": [
    {
     "name": "stdout",
     "output_type": "stream",
     "text": [
      "4\n"
     ]
    }
   ],
   "source": [
    "num = {2, 4, 6, 6, 2, 8}\n",
    "print(len(num))"
   ]
  },
  {
   "cell_type": "code",
   "execution_count": 12,
   "id": "78a93bbb",
   "metadata": {},
   "outputs": [
    {
     "name": "stdout",
     "output_type": "stream",
     "text": [
      "using &: {1, 3}\n",
      "using intersection(): {1, 3}\n"
     ]
    }
   ],
   "source": [
    "\n",
    "A = {1, 3, 5}\n",
    "B = {1, 2, 3}\n",
    "print('using &:', A & B)\n",
    "print('using intersection():', A.intersection(B))"
   ]
  },
  {
   "cell_type": "code",
   "execution_count": 13,
   "id": "cdfd68d6",
   "metadata": {},
   "outputs": [
    {
     "name": "stdout",
     "output_type": "stream",
     "text": [
      "using -: {5}\n",
      "using intersection(): {5}\n"
     ]
    }
   ],
   "source": [
    "print('using -:', A - B)\n",
    "print('using intersection():', A.difference(B))"
   ]
  },
  {
   "cell_type": "markdown",
   "id": "b056ecc3",
   "metadata": {},
   "source": [
    "# Dictionary"
   ]
  },
  {
   "cell_type": "code",
   "execution_count": 14,
   "id": "077760e4",
   "metadata": {},
   "outputs": [
    {
     "name": "stdout",
     "output_type": "stream",
     "text": [
      "{1: 'a', 2: 'b', 5: 'c', 4: 'd'}\n",
      "c\n"
     ]
    }
   ],
   "source": [
    "dict = {1:'a', 2:'b', 5:'c', 4:'d'}\n",
    "print(dict)\n",
    "print(dict[5])"
   ]
  },
  {
   "cell_type": "code",
   "execution_count": 15,
   "id": "0e0a0b5f",
   "metadata": {},
   "outputs": [
    {
     "name": "stdout",
     "output_type": "stream",
     "text": [
      "dict_items([(1, 'a'), (2, 'b'), (5, 'c'), (4, 'd')])\n",
      "dict_keys([1, 2, 5, 4])\n",
      "dict_values(['a', 'b', 'c', 'd'])\n"
     ]
    }
   ],
   "source": [
    "print(dict.items())\n",
    "print(dict.keys())\n",
    "print(dict.values())\n",
    "     "
   ]
  }
 ],
 "metadata": {
  "kernelspec": {
   "display_name": "Python 3 (ipykernel)",
   "language": "python",
   "name": "python3"
  },
  "language_info": {
   "codemirror_mode": {
    "name": "ipython",
    "version": 3
   },
   "file_extension": ".py",
   "mimetype": "text/x-python",
   "name": "python",
   "nbconvert_exporter": "python",
   "pygments_lexer": "ipython3",
   "version": "3.10.9"
  }
 },
 "nbformat": 4,
 "nbformat_minor": 5
}
