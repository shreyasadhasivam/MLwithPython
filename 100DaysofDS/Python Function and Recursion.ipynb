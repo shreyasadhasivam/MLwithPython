{
 "cells": [
  {
   "cell_type": "code",
   "execution_count": 1,
   "id": "3d86017e",
   "metadata": {},
   "outputs": [
    {
     "name": "stdout",
     "output_type": "stream",
     "text": [
      "Hi World\n"
     ]
    }
   ],
   "source": [
    "#user-defined function\n",
    "\n",
    "def hello():\n",
    "    print('Hi World')\n",
    "hello()"
   ]
  },
  {
   "cell_type": "code",
   "execution_count": 2,
   "id": "d591c2d8",
   "metadata": {},
   "outputs": [
    {
     "name": "stdout",
     "output_type": "stream",
     "text": [
      "100\n"
     ]
    }
   ],
   "source": [
    "#Function along parameter\n",
    "\n",
    "def addition(n1,n2):\n",
    "    print(n1+n2)\n",
    "addition(50,50)"
   ]
  },
  {
   "cell_type": "code",
   "execution_count": null,
   "id": "05ad60f0",
   "metadata": {},
   "outputs": [],
   "source": [
    "#function\n",
    "\n",
    "def find_square(num)"
   ]
  }
 ],
 "metadata": {
  "kernelspec": {
   "display_name": "Python 3 (ipykernel)",
   "language": "python",
   "name": "python3"
  },
  "language_info": {
   "codemirror_mode": {
    "name": "ipython",
    "version": 3
   },
   "file_extension": ".py",
   "mimetype": "text/x-python",
   "name": "python",
   "nbconvert_exporter": "python",
   "pygments_lexer": "ipython3",
   "version": "3.10.9"
  }
 },
 "nbformat": 4,
 "nbformat_minor": 5
}
